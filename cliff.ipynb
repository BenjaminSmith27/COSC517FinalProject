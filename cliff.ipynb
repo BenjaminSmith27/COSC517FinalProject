{
 "cells": [
  {
   "cell_type": "code",
   "execution_count": 1,
   "metadata": {},
   "outputs": [],
   "source": [
    "import matplotlib\n",
    "import numpy as np\n",
    "import pandas as pd\n",
    "from collections import namedtuple\n",
    "from matplotlib import pyplot as plt\n",
    "from mpl_toolkits.mplot3d import Axes3D\n",
    "\n",
    "EpisodeStats = namedtuple(\"Stats\",[\"episode_lengths\", \"episode_rewards\"])\n",
    "\n",
    "def plot_cost_to_go_mountain_car(env, estimator, num_tiles=20):\n",
    "    x = np.linspace(env.observation_space.low[0], env.observation_space.high[0], num=num_tiles)\n",
    "    y = np.linspace(env.observation_space.low[1], env.observation_space.high[1], num=num_tiles)\n",
    "    X, Y = np.meshgrid(x, y)\n",
    "    Z = np.apply_along_axis(lambda _: -np.max(estimator.predict(_)), 2, np.dstack([X, Y]))\n",
    "\n",
    "    fig = plt.figure(figsize=(10, 5))\n",
    "    ax = fig.add_subplot(111, projection='3d')\n",
    "    surf = ax.plot_surface(X, Y, Z, rstride=1, cstride=1,\n",
    "                           cmap=matplotlib.cm.coolwarm, vmin=-1.0, vmax=1.0)\n",
    "    ax.set_xlabel('Position')\n",
    "    ax.set_ylabel('Velocity')\n",
    "    ax.set_zlabel('Value')\n",
    "    ax.set_title(\"Mountain \\\"Cost To Go\\\" Function\")\n",
    "    fig.colorbar(surf)\n",
    "    plt.show()\n",
    "\n",
    "\n",
    "def plot_value_function(V, title=\"Value Function\"):\n",
    "    \"\"\"\n",
    "    Plots the value function as a surface plot.\n",
    "    \"\"\"\n",
    "    min_x = min(k[0] for k in V.keys())\n",
    "    max_x = max(k[0] for k in V.keys())\n",
    "    min_y = min(k[1] for k in V.keys())\n",
    "    max_y = max(k[1] for k in V.keys())\n",
    "\n",
    "    x_range = np.arange(min_x, max_x + 1)\n",
    "    y_range = np.arange(min_y, max_y + 1)\n",
    "    X, Y = np.meshgrid(x_range, y_range)\n",
    "\n",
    "    # Find value for all (x, y) coordinates\n",
    "    Z_noace = np.apply_along_axis(lambda _: V[(_[0], _[1], False)], 2, np.dstack([X, Y]))\n",
    "    Z_ace = np.apply_along_axis(lambda _: V[(_[0], _[1], True)], 2, np.dstack([X, Y]))\n",
    "\n",
    "    def plot_surface(X, Y, Z, title):\n",
    "        fig = plt.figure(figsize=(20, 10))\n",
    "        ax = fig.add_subplot(111, projection='3d')\n",
    "        surf = ax.plot_surface(X, Y, Z, rstride=1, cstride=1,\n",
    "                               cmap=matplotlib.cm.coolwarm, vmin=-1.0, vmax=1.0)\n",
    "        ax.set_xlabel('Player Sum')\n",
    "        ax.set_ylabel('Dealer Showing')\n",
    "        ax.set_zlabel('Value')\n",
    "        ax.set_title(title)\n",
    "        ax.view_init(ax.elev, -120)\n",
    "        fig.colorbar(surf)\n",
    "        plt.show()\n",
    "\n",
    "    plot_surface(X, Y, Z_noace, \"{} (No Usable Ace)\".format(title))\n",
    "    plot_surface(X, Y, Z_ace, \"{} (Usable Ace)\".format(title))\n",
    "\n",
    "\n",
    "\n",
    "def plot_episode_stats(stats, smoothing_window=10, noshow=False):\n",
    "    # Plot the episode length over time\n",
    "    fig1 = plt.figure(figsize=(10,5))\n",
    "    plt.plot(stats.episode_lengths)\n",
    "    plt.xlabel(\"Episode\")\n",
    "    plt.ylabel(\"Episode Length\")\n",
    "    plt.title(\"Episode Length over Time\")\n",
    "    if noshow:\n",
    "        plt.close(fig1)\n",
    "    else:\n",
    "        plt.show(fig1)\n",
    "\n",
    "    # Plot the episode reward over time\n",
    "    fig2 = plt.figure(figsize=(10,5))\n",
    "    rewards_smoothed = pd.Series(stats.episode_rewards).rolling(smoothing_window, min_periods=smoothing_window).mean()\n",
    "    plt.plot(rewards_smoothed)\n",
    "    plt.xlabel(\"Episode\")\n",
    "    plt.ylabel(\"Episode Reward (Smoothed)\")\n",
    "    plt.title(\"Episode Reward over Time (Smoothed over window size {})\".format(smoothing_window))\n",
    "    if noshow:\n",
    "        plt.close(fig2)\n",
    "    else:\n",
    "        plt.show(fig2)\n",
    "\n",
    "    # Plot time steps and episode number\n",
    "    fig3 = plt.figure(figsize=(10,5))\n",
    "    plt.plot(np.cumsum(stats.episode_lengths), np.arange(len(stats.episode_lengths)))\n",
    "    plt.xlabel(\"Time Steps\")\n",
    "    plt.ylabel(\"Episode\")\n",
    "    plt.title(\"Episode per time step\")\n",
    "    if noshow:\n",
    "        plt.close(fig3)\n",
    "    else:\n",
    "        plt.show(fig3)\n",
    "\n",
    "    return fig1, fig2, fig3"
   ]
  },
  {
   "cell_type": "code",
   "execution_count": 2,
   "metadata": {},
   "outputs": [],
   "source": [
    "import gym\n",
    "import matplotlib\n",
    "import numpy as np\n",
    "import random\n",
    "import itertools\n",
    "import sys\n",
    "from collections import defaultdict\n",
    "from gym.envs.toy_text.cliffwalking import CliffWalkingEnv\n",
    "\n",
    "matplotlib.style.use('ggplot')\n",
    "%matplotlib inline"
   ]
  },
  {
   "cell_type": "code",
   "execution_count": 3,
   "metadata": {},
   "outputs": [],
   "source": [
    "env = CliffWalkingEnv()"
   ]
  },
  {
   "cell_type": "code",
   "execution_count": 4,
   "metadata": {},
   "outputs": [
    {
     "name": "stdout",
     "output_type": "stream",
     "text": [
      "o  o  o  o  o  o  o  o  o  o  o  o\n",
      "o  o  o  o  o  o  o  o  o  o  o  o\n",
      "o  o  o  o  o  o  o  o  o  o  o  o\n",
      "x  C  C  C  C  C  C  C  C  C  C  T\n",
      "\n"
     ]
    }
   ],
   "source": [
    "env.render()"
   ]
  },
  {
   "cell_type": "code",
   "execution_count": 5,
   "metadata": {},
   "outputs": [],
   "source": [
    "action = [\"up\", \"right\", \"down\", \"left\"]"
   ]
  },
  {
   "cell_type": "code",
   "execution_count": 6,
   "metadata": {},
   "outputs": [
    {
     "name": "stdout",
     "output_type": "stream",
     "text": [
      "Number of states: 48\n",
      "Number of actions that an agent can take: 4\n"
     ]
    }
   ],
   "source": [
    "# 4x12 grid = 48 states\n",
    "print (\"Number of states:\", env.nS)\n",
    "# either go left, up, down or right\n",
    "print (\"Number of actions that an agent can take:\", env.nA)"
   ]
  },
  {
   "cell_type": "code",
   "execution_count": 7,
   "metadata": {},
   "outputs": [
    {
     "name": "stdout",
     "output_type": "stream",
     "text": [
      "Current state 36\n",
      "Transitions from current state: {0: [(1.0, 24, -1, False)], 1: [(1.0, 36, -100, False)], 2: [(1.0, 36, -1, False)], 3: [(1.0, 36, -1, False)]}\n"
     ]
    }
   ],
   "source": [
    "# Where am I? -> in \"x\" state\n",
    "print (\"Current state\", env.s)\n",
    "# What are my options? -> 4 action\n",
    "print (\"Transitions from current state:\", env.P[env.s])"
   ]
  },
  {
   "cell_type": "code",
   "execution_count": 8,
   "metadata": {},
   "outputs": [
    {
     "name": "stdout",
     "output_type": "stream",
     "text": [
      "Action taken: left\n",
      "Transition probability: {'prob': 1.0}\n",
      "Next state: 36\n",
      "Reward recieved: -1\n",
      "Terminal state: False\n",
      "o  o  o  o  o  o  o  o  o  o  o  o\n",
      "o  o  o  o  o  o  o  o  o  o  o  o\n",
      "o  o  o  o  o  o  o  o  o  o  o  o\n",
      "x  C  C  C  C  C  C  C  C  C  C  T\n",
      "\n"
     ]
    }
   ],
   "source": [
    "# Taking a step by selecting a random action[up=0, right=1, down=2, left=3] from current state\n",
    "# next state: Where do I end up?\n",
    "# reward: What rewards did I recieve?\n",
    "# is_terminal: did I end up in the goal state?\n",
    "# t_prob: What is probability of ending up in next state taking that action?\n",
    "rnd_action = random.randint(0, 3)\n",
    "print (\"Action taken:\", action[rnd_action])\n",
    "next_state, reward, is_terminal, t_prob = env.step(rnd_action)\n",
    "print (\"Transition probability:\", t_prob)\n",
    "print (\"Next state:\", next_state)\n",
    "print (\"Reward recieved:\", reward)\n",
    "print (\"Terminal state:\", is_terminal)\n",
    "env.render()"
   ]
  },
  {
   "cell_type": "code",
   "execution_count": 9,
   "metadata": {},
   "outputs": [],
   "source": [
    "def make_epsilon_greedy_policy(Q, epsilon, nA):\n",
    "    \"\"\"\n",
    "    Creates an epsilon-greedy policy based on a given Q-function and epsilon.\n",
    "    \n",
    "    Args:\n",
    "        Q: A dictionary that maps from state -> action-values.\n",
    "            Each value is a numpy array of length nA (see below)\n",
    "        epsilon: The probability to select a random action float between 0 and 1.\n",
    "        nA: Number of actions in the environment.\n",
    "    \n",
    "    Returns:\n",
    "        A function that takes the observation as an argument and returns\n",
    "        the probabilities for each action in the form of a numpy array of length nA.\n",
    "    \n",
    "    \"\"\"\n",
    "    def policy_fn(observation):\n",
    "        pi = np.ones(nA, dtype=float) * (epsilon/nA)\n",
    "        best_action = np.argmax(Q[observation])\n",
    "        pi[best_action] += (1.0 - epsilon)\n",
    "        return pi\n",
    "    \n",
    "    return policy_fn"
   ]
  },
  {
   "cell_type": "code",
   "execution_count": 10,
   "metadata": {},
   "outputs": [
    {
     "name": "stdout",
     "output_type": "stream",
     "text": [
      "Length of episode: 214906\n",
      "CPU times: user 12.7 s, sys: 555 ms, total: 13.3 s\n",
      "Wall time: 12.9 s\n"
     ]
    }
   ],
   "source": [
    "%%time \n",
    "\n",
    "# generate a episode in cliffwalking environment for above sample_policy\n",
    "def generate_episode(policy, verbose=False):\n",
    "    episode = []\n",
    "    env = CliffWalkingEnv()\n",
    "    curr_state = env.reset()\n",
    "    probs = policy(curr_state)\n",
    "    action = np.random.choice(np.arange(len(probs)), p=probs)\n",
    "    \n",
    "    while True:\n",
    "        if verbose:\n",
    "            print (\"Current observation:\")\n",
    "            print (\"Current poistion:\", curr_state)\n",
    "            #print (env.render())\n",
    "        \n",
    "        next_obs, reward, is_terminal, _ = env.step(action)\n",
    "        \n",
    "        if verbose:\n",
    "            print (\"Action taken:\", actions[action])\n",
    "            print (\"Next observation:\", next_obs)\n",
    "            print (\"Reward recieved:\", reward)\n",
    "            print (\"Terminal state:\", is_terminal)\n",
    "            #print (env.render())\n",
    "            print (\"-\"*20)\n",
    "        episode.append((curr_state, action, reward))\n",
    "        \n",
    "        # Pick the next action\n",
    "        next_probs = policy(next_state)\n",
    "        next_action = np.random.choice(np.arange(len(next_probs)), p=next_probs)\n",
    "    \n",
    "        curr_state = next_obs\n",
    "        action = next_action\n",
    "\n",
    "        if (is_terminal):\n",
    "            break\n",
    "\n",
    "    return episode\n",
    "    \n",
    "Q = defaultdict(lambda: np.zeros(env.action_space.n))\n",
    "policy = make_epsilon_greedy_policy(Q, 0.1, env.action_space.n)\n",
    "e = generate_episode(policy)\n",
    "#print (\"Episode:\", e)\n",
    "print (\"Length of episode:\", len(e))"
   ]
  },
  {
   "cell_type": "code",
   "execution_count": 11,
   "metadata": {},
   "outputs": [],
   "source": [
    "def sarsa(env, num_episodes, discount_factor=1.0, alpha=0.5, epsilon=0.1):\n",
    "    \"\"\"\n",
    "    SARSA algorithm: On-policy TD control. Finds the optimal epsilon-greedy policy.\n",
    "    \n",
    "    Args:\n",
    "        env: OpenAI environment.\n",
    "        num_episodes: Number of episodes to run for.\n",
    "        discount_factor: Gamma discount factor.\n",
    "        alpha: TD learning rate.\n",
    "        epsilon: Chance the sample a random action. Float betwen 0 and 1.\n",
    "    \n",
    "    Returns:\n",
    "        A tuple (Q, stats).\n",
    "        Q is the optimal action-value function, a dictionary mapping state -> action values.\n",
    "        stats is an EpisodeStats object with two numpy arrays for episode_lengths and episode_rewards.\n",
    "    \"\"\"\n",
    "    \n",
    "    # The final action-value function.\n",
    "    # A nested dictionary that maps state -> (action -> action-value).\n",
    "    Q = defaultdict(lambda: np.zeros(env.action_space.n))\n",
    "    \n",
    "    # Keeps track of useful statistics\n",
    "    stats = EpisodeStats(\n",
    "        episode_lengths=np.zeros(num_episodes),\n",
    "        episode_rewards=np.zeros(num_episodes))\n",
    "\n",
    "    # The policy we're following\n",
    "    policy = make_epsilon_greedy_policy(Q, epsilon, env.action_space.n)\n",
    "    \n",
    "    for i_episode in range(num_episodes):\n",
    "        # Print out which episode we're on, useful for debugging.\n",
    "        if (i_episode + 1) % 100 == 0:\n",
    "            print(\"\\rEpisode {}/{}.\".format(i_episode + 1, num_episodes), end=\"\")\n",
    "            sys.stdout.flush()\n",
    "    \n",
    "        # Reset the environment and pick the first action\n",
    "        state = env.reset()\n",
    "        probs = policy(state)\n",
    "        action = np.random.choice(np.arange(len(probs)), p=probs)\n",
    "        \n",
    "        # Approach : 1\n",
    "        # Takes a lot a lot lot of time to run\n",
    "        # ep = generate_episode(policy)\n",
    "        # for i in range(len(ep)-1):\n",
    "        #     state, action, reward = ep[i]\n",
    "        #     next_state, next_action, next_reward = ep[i+1]\n",
    "        \n",
    "        #     td_target = reward + discount_factor * Q[next_state][next_action]\n",
    "        #     td_error = td_target - Q[state][action]\n",
    "        #     Q[state][action] += alpha * td_error\n",
    "\n",
    "        #     stats.episode_rewards[i_episode] += reward\n",
    "        #     stats.episode_lengths[i_episode] = t\n",
    "\n",
    "        # Approach : 2\n",
    "        # One step in the environment\n",
    "        for t in itertools.count():\n",
    "            # Take a step\n",
    "            next_state, reward, is_terminal, _ = env.step(action)\n",
    "            \n",
    "            # Pick the next action\n",
    "            next_probs = policy(next_state)\n",
    "            next_action = np.random.choice(np.arange(len(next_probs)), p=next_probs)\n",
    "            \n",
    "            td_target = reward + discount_factor * Q[next_state][next_action]\n",
    "            td_error = td_target - Q[state][action]\n",
    "            Q[state][action] += alpha * td_error\n",
    "\n",
    "            stats.episode_rewards[i_episode] += reward\n",
    "            stats.episode_lengths[i_episode] = t\n",
    "\n",
    "            if is_terminal:\n",
    "                break\n",
    "            \n",
    "            state = next_state\n",
    "            action = next_action\n",
    "\n",
    "    return Q, stats"
   ]
  },
  {
   "cell_type": "code",
   "execution_count": 12,
   "metadata": {},
   "outputs": [
    {
     "name": "stdout",
     "output_type": "stream",
     "text": [
      "Episode 200/200.CPU times: user 431 ms, sys: 40.3 ms, total: 471 ms\n",
      "Wall time: 444 ms\n"
     ]
    }
   ],
   "source": [
    "%%time\n",
    "Q, stats = sarsa(env, 200)"
   ]
  },
  {
   "cell_type": "code",
   "execution_count": 14,
   "metadata": {},
   "outputs": [
    {
     "data": {
      "image/png": "[encoded data removed]",
      "text/plain": [
       "<Figure size 720x360 with 1 Axes>"
      ]
     },
     "metadata": {
      "needs_background": "light"
     },
     "output_type": "display_data"
    },
    {
     "data": {
      "image/png": "[encoded data removed]",
      "text/plain": [
       "<Figure size 720x360 with 1 Axes>"
      ]
     },
     "metadata": {
      "needs_background": "light"
     },
     "output_type": "display_data"
    },
    {
     "data": {
      "image/png": "[encoded data removed]",
      "text/plain": [
       "<Figure size 720x360 with 1 Axes>"
      ]
     },
     "metadata": {
      "needs_background": "light"
     },
     "output_type": "display_data"
    },
    {
     "data": {
      "text/plain": [
       "(<Figure size 720x360 with 1 Axes>,\n",
       " <Figure size 720x360 with 1 Axes>,\n",
       " <Figure size 720x360 with 1 Axes>)"
      ]
     },
     "execution_count": 14,
     "metadata": {},
     "output_type": "execute_result"
    }
   ],
   "source": [
    "plot_episode_stats(stats)"
   ]
  },
  {
   "cell_type": "code",
   "execution_count": 15,
   "metadata": {},
   "outputs": [],
   "source": [
    "# get greedy policy from Q\n",
    "policy = np.array([np.argmax(Q[key]) if key in Q else -1 for key in np.arange(48)])\n",
    "# get value function from Q using greedy policy\n",
    "v = ([np.max(Q[key]) if key in Q else 0 for key in np.arange(48)])"
   ]
  },
  {
   "cell_type": "code",
   "execution_count": 16,
   "metadata": {},
   "outputs": [
    {
     "name": "stdout",
     "output_type": "stream",
     "text": [
      "Reshaped Grid Policy:\n",
      "[[ 1  1  1  1  1  1  1  1  1  1  2  2]\n",
      " [ 1  0  0  1  1  0  2  0  0  1  1  2]\n",
      " [ 0  0  0  3  0  3  0  0  1  1  1  2]\n",
      " [ 0 -1 -1 -1 -1 -1 -1 -1 -1 -1 -1  0]]\n",
      "\n",
      "Optimal Policy:\n",
      "[['right' 'right' 'right' 'right' 'right' 'right' 'right' 'right' 'right'\n",
      "  'right' 'down' 'down']\n",
      " ['right' 'up' 'up' 'right' 'right' 'up' 'down' 'up' 'up' 'right' 'right'\n",
      "  'down']\n",
      " ['up' 'up' 'up' 'left' 'up' 'left' 'up' 'up' 'right' 'right' 'right'\n",
      "  'down']\n",
      " ['up' 'left' 'left' 'left' 'left' 'left' 'left' 'left' 'left' 'left'\n",
      "  'left' 'up']]\n",
      "\n",
      "Optimal Value Function:\n",
      "[[-17.16868769 -14.43624839 -13.91406129 -13.28842407 -12.17940678\n",
      "  -10.49278893  -8.790831    -7.42886286  -6.31765359  -5.26710496\n",
      "   -4.36542206  -3.58295934]\n",
      " [-16.93017214 -15.59015403 -16.05551351 -12.7745476  -12.53168344\n",
      "  -10.85952537 -11.12728132  -9.71977706  -9.51524471  -4.36096375\n",
      "   -3.44887596  -2.20189479]\n",
      " [-17.96402646 -17.09171741 -13.70836284 -12.12583668 -12.73624499\n",
      "  -12.65005348 -10.94453134  -7.26002902  -4.00259429  -3.16905309\n",
      "   -2.00098535  -1.        ]\n",
      " [-18.80919765   0.           0.           0.           0.\n",
      "    0.           0.           0.           0.           0.\n",
      "    0.           0.        ]]\n",
      "\n"
     ]
    }
   ],
   "source": [
    "print(\"Reshaped Grid Policy:\")\n",
    "actions = np.stack([action for _ in range(len(policy))], axis=0)\n",
    "print (np.reshape(policy, (4, 12)))\n",
    "print (\"\")\n",
    "\n",
    "print (\"Optimal Policy:\")\n",
    "print(np.take(actions, np.reshape(policy, (4, 12))))\n",
    "print(\"\")\n",
    "\n",
    "print(\"Optimal Value Function:\")\n",
    "print(np.reshape(v, (4, 12)))\n",
    "print(\"\")"
   ]
  },
  {
   "cell_type": "code",
   "execution_count": null,
   "metadata": {},
   "outputs": [],
   "source": []
  }
 ],
 "metadata": {
  "kernelspec": {
   "display_name": "Python 3",
   "language": "python",
   "name": "python3"
  },
  "language_info": {
   "codemirror_mode": {
    "name": "ipython",
    "version": 3
   },
   "file_extension": ".py",
   "mimetype": "text/x-python",
   "name": "python",
   "nbconvert_exporter": "python",
   "pygments_lexer": "ipython3",
   "version": "3.8.5"
  }
 },
 "nbformat": 4,
 "nbformat_minor": 4
}
